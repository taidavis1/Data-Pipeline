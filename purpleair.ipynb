{
 "cells": [
  {
   "cell_type": "code",
   "execution_count": null,
   "metadata": {},
   "outputs": [],
   "source": [
    "import pandas as pd\n",
    "import requests\n",
    "import datetime\n",
    "from io import StringIO\n",
    "\n",
    "class GetPurpleAirData:\n",
    "    \n",
    "    def __init__(self, sensor_list, start_date, end_date, headers, fields):\n",
    "        self.sensor_list = sensor_list\n",
    "        self.start_date = start_date\n",
    "        self.end_date = end_date\n",
    "        self.headers = headers\n",
    "        self.fields = fields\n",
    "        \n",
    "    def get_data_purpleair(self):\n",
    "        for index in range(len(self.sensor_list)):\n",
    "            # Build the URL\n",
    "            url = f'https://api.purpleair.com/v1/sensors/{self.sensor_list[index]}/history/csv?fields={\",\".join(self.fields)}'\n",
    "            # Make the GET request\n",
    "            response = requests.get(url, headers=self.headers)\n",
    "\n",
    "            # Check if the request was successful (status code 200)\n",
    "            if response.status_code == 200:\n",
    "                # Parse CSV data using pandas\n",
    "                df = pd.read_csv(StringIO(response.text))\n",
    "                \n",
    "                # Save DataFrame to CSV file\n",
    "                filename = f\"sensor_{self.sensor_list[index]}_data.csv\"\n",
    "                df.to_csv(filename, index=False)\n",
    "                \n",
    "                print(f\"Data saved to {filename}\")\n",
    "            else:\n",
    "                # Display the error message if the request was not successful\n",
    "                print(f\"Error: {response.status_code} - {response.text}\")\n",
    "\n",
    "if __name__ == '__main__':\n",
    "    data = GetPurpleAirData(\n",
    "        sensor_list=[\"155683\", \"104106\"],\n",
    "        start_date=datetime.datetime(2023, 11, 16,4,30,0),\n",
    "        end_date=datetime.datetime(2023, 11, 16,7,0,0),\n",
    "        headers={'X-API-Key': \"5E56E968-4C34-11EE-A77F-42010A800009\"},\n",
    "        fields=[\"pm2.5_alt\",\"pm2.5_atm\",\"pressure\",\"humidity\"]\n",
    "    )\n",
    "    data.get_data_purpleair()\n"
   ]
  }
 ],
 "metadata": {
  "language_info": {
   "name": "python"
  }
 },
 "nbformat": 4,
 "nbformat_minor": 2
}
